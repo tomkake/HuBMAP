{
 "cells": [
  {
   "cell_type": "code",
   "execution_count": 1,
   "id": "bbf6799b-b1ef-446b-b6a1-45bce8a0bd3b",
   "metadata": {},
   "outputs": [],
   "source": [
    "import os\n",
    "import cv2\n",
    "import json\n",
    "import numpy as np\n",
    "import pandas as pd\n",
    "import tifffile as tiff\n",
    "from tqdm import tqdm\n",
    "from PIL import Image\n",
    "import matplotlib.pyplot as plt"
   ]
  },
  {
   "cell_type": "code",
   "execution_count": 2,
   "id": "e5ad59c8",
   "metadata": {},
   "outputs": [
    {
     "data": {
      "text/html": [
       "<div>\n",
       "<style scoped>\n",
       "    .dataframe tbody tr th:only-of-type {\n",
       "        vertical-align: middle;\n",
       "    }\n",
       "\n",
       "    .dataframe tbody tr th {\n",
       "        vertical-align: top;\n",
       "    }\n",
       "\n",
       "    .dataframe thead th {\n",
       "        text-align: right;\n",
       "    }\n",
       "</style>\n",
       "<table border=\"1\" class=\"dataframe\">\n",
       "  <thead>\n",
       "    <tr style=\"text-align: right;\">\n",
       "      <th></th>\n",
       "      <th>id</th>\n",
       "      <th>source_wsi</th>\n",
       "      <th>dataset</th>\n",
       "      <th>i</th>\n",
       "      <th>j</th>\n",
       "    </tr>\n",
       "  </thead>\n",
       "  <tbody>\n",
       "    <tr>\n",
       "      <th>0</th>\n",
       "      <td>0006ff2aa7cd</td>\n",
       "      <td>2</td>\n",
       "      <td>2</td>\n",
       "      <td>16896</td>\n",
       "      <td>16420</td>\n",
       "    </tr>\n",
       "    <tr>\n",
       "      <th>1</th>\n",
       "      <td>000e79e206b7</td>\n",
       "      <td>6</td>\n",
       "      <td>3</td>\n",
       "      <td>10240</td>\n",
       "      <td>29184</td>\n",
       "    </tr>\n",
       "    <tr>\n",
       "      <th>2</th>\n",
       "      <td>00168d1b7522</td>\n",
       "      <td>2</td>\n",
       "      <td>2</td>\n",
       "      <td>14848</td>\n",
       "      <td>14884</td>\n",
       "    </tr>\n",
       "    <tr>\n",
       "      <th>3</th>\n",
       "      <td>00176a88fdb0</td>\n",
       "      <td>7</td>\n",
       "      <td>3</td>\n",
       "      <td>14848</td>\n",
       "      <td>25088</td>\n",
       "    </tr>\n",
       "    <tr>\n",
       "      <th>4</th>\n",
       "      <td>0033bbc76b6b</td>\n",
       "      <td>1</td>\n",
       "      <td>1</td>\n",
       "      <td>10240</td>\n",
       "      <td>43008</td>\n",
       "    </tr>\n",
       "  </tbody>\n",
       "</table>\n",
       "</div>"
      ],
      "text/plain": [
       "             id  source_wsi  dataset      i      j\n",
       "0  0006ff2aa7cd           2        2  16896  16420\n",
       "1  000e79e206b7           6        3  10240  29184\n",
       "2  00168d1b7522           2        2  14848  14884\n",
       "3  00176a88fdb0           7        3  14848  25088\n",
       "4  0033bbc76b6b           1        1  10240  43008"
      ]
     },
     "execution_count": 2,
     "metadata": {},
     "output_type": "execute_result"
    }
   ],
   "source": [
    "df = pd.read_csv(\"../data/tile_meta.csv\")\n",
    "df.head()"
   ]
  },
  {
   "cell_type": "code",
   "execution_count": 3,
   "id": "87b1fdad-b6d9-4d41-bbdd-ce78cf6af4a7",
   "metadata": {},
   "outputs": [],
   "source": [
    "target_df = df[df[\"dataset\"] == 3]"
   ]
  },
  {
   "cell_type": "code",
   "execution_count": 7,
   "id": "9ec0df64-b983-4429-90bb-6c5a6cbc5501",
   "metadata": {},
   "outputs": [
    {
     "name": "stdout",
     "output_type": "stream",
     "text": [
      "5400\n"
     ]
    }
   ],
   "source": [
    "print(len(target_df))"
   ]
  },
  {
   "cell_type": "code",
   "execution_count": 4,
   "id": "70fba828-b168-467d-bded-16e282f34602",
   "metadata": {},
   "outputs": [],
   "source": [
    "os.makedirs('../data/dataset3_images', exist_ok=True)\n",
    "\n",
    "for i, tldc in target_df.iterrows():\n",
    "    array = tiff.imread(f'../data/train/{tldc[\"id\"]}.tif')\n",
    "    img_example = Image.fromarray(array)\n",
    "    img = np.array(img_example)\n",
    "    cv2.imwrite(f'../data/dataset3_images/{tldc[\"id\"]}.png', img)\n",
    "        # cv2.imwrite(f'../data/mask_images/{tldc[\"id\"]}.png', mask)\n",
    "        # all_ids.append({tldc[\"id\"]})\n",
    "    "
   ]
  },
  {
   "cell_type": "code",
   "execution_count": 6,
   "id": "9e8765df-6720-4888-9652-501548dbac64",
   "metadata": {},
   "outputs": [
    {
     "name": "stdout",
     "output_type": "stream",
     "text": [
      "   5400    5400   91800\n"
     ]
    }
   ],
   "source": [
    "!ls ../data/dataset3_images/ | wc"
   ]
  },
  {
   "cell_type": "code",
   "execution_count": null,
   "id": "7eec3005-436d-4027-aaed-987e38e2ef6a",
   "metadata": {},
   "outputs": [],
   "source": []
  }
 ],
 "metadata": {
  "kernelspec": {
   "display_name": "Python 3 (ipykernel)",
   "language": "python",
   "name": "python3"
  },
  "language_info": {
   "codemirror_mode": {
    "name": "ipython",
    "version": 3
   },
   "file_extension": ".py",
   "mimetype": "text/x-python",
   "name": "python",
   "nbconvert_exporter": "python",
   "pygments_lexer": "ipython3",
   "version": "3.10.11"
  }
 },
 "nbformat": 4,
 "nbformat_minor": 5
}
