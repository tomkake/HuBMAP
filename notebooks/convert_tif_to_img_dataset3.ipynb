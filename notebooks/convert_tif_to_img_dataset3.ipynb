{
 "cells": [
  {
   "cell_type": "code",
   "execution_count": 8,
   "id": "bbf6799b-b1ef-446b-b6a1-45bce8a0bd3b",
   "metadata": {},
   "outputs": [],
   "source": [
    "import os\n",
    "import cv2\n",
    "import json\n",
    "import numpy as np\n",
    "import pandas as pd\n",
    "import tifffile as tiff\n",
    "from tqdm import tqdm\n",
    "from PIL import Image\n",
    "import matplotlib.pyplot as plt"
   ]
  },
  {
   "cell_type": "code",
   "execution_count": 9,
   "id": "7a2cac65-b802-4a21-9c98-b199f3c634d9",
   "metadata": {},
   "outputs": [],
   "source": [
    "df = pd.read_csv(\"../data/tile_meta.csv\")"
   ]
  },
  {
   "cell_type": "code",
   "execution_count": 10,
   "id": "cff446ab-7871-481a-a152-24a9e2c0c19b",
   "metadata": {},
   "outputs": [],
   "source": [
    "df = df[df[\"dataset\"] == 3]\n",
    "tiles_dicts = df[\"id\"]"
   ]
  },
  {
   "cell_type": "code",
   "execution_count": 11,
   "id": "d092298e",
   "metadata": {},
   "outputs": [],
   "source": [
    "def make_seg_mask(tiles_dict):\n",
    "    mask = np.zeros((512, 512), dtype=np.float32)\n",
    "    for annot in tiles_dict['annotations']:\n",
    "        cords = annot['coordinates']\n",
    "        if annot['type'] == \"blood_vessel\":\n",
    "            for cd in cords:\n",
    "                rr, cc = np.array([i[1] for i in cd]), np.asarray([i[0] for i in cd])\n",
    "                mask[rr, cc] = 1\n",
    "                \n",
    "    contours,_ = cv2.findContours((mask*255).astype(np.uint8), 1, 2)\n",
    "    zero_img = np.zeros([mask.shape[0], mask.shape[1]], dtype=\"uint8\")\n",
    "\n",
    "    for p in contours:\n",
    "        cv2.fillPoly(zero_img, [p], (255, 255))\n",
    "    # zero_img = cv2.blur(zero_img, (6, 6))\n",
    "    return zero_img    "
   ]
  },
  {
   "cell_type": "code",
   "execution_count": 12,
   "id": "1e912839-a5f8-4750-bc11-dcf94a8be3d1",
   "metadata": {},
   "outputs": [],
   "source": [
    "def make_seg_mask_3class(tiles_dict):\n",
    "    mask = np.zeros((512, 512), dtype=np.float32)\n",
    "    contour_dict = {'blood_vessel': [], 'glomerulus': [], 'unsure': []} # 追加\n",
    "    for annot in tiles_dict['annotations']:\n",
    "        cords = annot['coordinates']\n",
    "        if annot['type'] in contour_dict: # 追加\n",
    "            for cd in cords:\n",
    "                rr, cc = np.array([i[1] for i in cd]), np.asarray([i[0] for i in cd])\n",
    "                mask[rr, cc] = 1\n",
    "                contour_dict[annot['type']].append(mask.copy()) # 各クラスのcontourを記録\n",
    "                mask[rr, cc] = 0 # maskのリセット\n",
    "\n",
    "    colors = [(1, 0, 0), (0, 1, 0), (0, 0, 1)] # 各クラスに対する色を定義 (ここではRGBで赤、緑、青)\n",
    "    zero_img = np.zeros([mask.shape[0], mask.shape[1], 3], dtype=\"uint8\")\n",
    "\n",
    "    for idx, class_type in enumerate(contour_dict.keys()): # 各クラスのcontourについて\n",
    "        for class_mask in contour_dict[class_type]: # 各クラスのmaskについて\n",
    "            contours, _ = cv2.findContours((class_mask).astype(np.uint8), 1, 2) # 各クラスのmaskからcontourを抽出\n",
    "\n",
    "            for p in contours: # 抽出したcontourに対して色を割り当て\n",
    "                cv2.fillPoly(zero_img, [p], colors[idx]) # ここで指定した色で描画\n",
    "\n",
    "    return zero_img"
   ]
  },
  {
   "cell_type": "code",
   "execution_count": 13,
   "id": "e5ad59c8",
   "metadata": {},
   "outputs": [],
   "source": [
    "all_ids = []"
   ]
  },
  {
   "cell_type": "code",
   "execution_count": 19,
   "id": "70fba828-b168-467d-bded-16e282f34602",
   "metadata": {},
   "outputs": [
    {
     "name": "stderr",
     "output_type": "stream",
     "text": [
      "100%|█████████████████████████████████████████████████████████████████████████████████████████████████████████████████████████████████████████████████████████████████████████████| 5400/5400 [01:09<00:00, 77.25it/s]\n"
     ]
    }
   ],
   "source": [
    "os.makedirs('../data/train_images_dataset3', exist_ok=True)\n",
    "for i, tldc in enumerate(tqdm(tiles_dicts)):\n",
    "    array = tiff.imread(f'../data/train/{tldc}.tif')\n",
    "    img_example = Image.fromarray(array)\n",
    "    img = np.array(img_example)\n",
    "    # mask = make_seg_mask(tldc)\n",
    "    # plt.imshow(mask)\n",
    "    # break\n",
    "    cv2.imwrite(f'../data/train_images_dataset3/{tldc}.png', img)"
   ]
  },
  {
   "cell_type": "code",
   "execution_count": null,
   "id": "f7ad9e6d",
   "metadata": {},
   "outputs": [],
   "source": []
  }
 ],
 "metadata": {
  "kernelspec": {
   "display_name": "Python 3 (ipykernel)",
   "language": "python",
   "name": "python3"
  },
  "language_info": {
   "codemirror_mode": {
    "name": "ipython",
    "version": 3
   },
   "file_extension": ".py",
   "mimetype": "text/x-python",
   "name": "python",
   "nbconvert_exporter": "python",
   "pygments_lexer": "ipython3",
   "version": "3.10.11"
  }
 },
 "nbformat": 4,
 "nbformat_minor": 5
}
