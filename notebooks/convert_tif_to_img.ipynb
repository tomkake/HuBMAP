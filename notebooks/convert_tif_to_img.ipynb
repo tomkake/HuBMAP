{
 "cells": [
  {
   "cell_type": "code",
   "execution_count": 21,
   "id": "bbf6799b-b1ef-446b-b6a1-45bce8a0bd3b",
   "metadata": {},
   "outputs": [],
   "source": [
    "import os\n",
    "import cv2\n",
    "import json\n",
    "import numpy as np\n",
    "import pandas as pd\n",
    "import tifffile as tiff\n",
    "from tqdm import tqdm\n",
    "from PIL import Image\n",
    "import matplotlib.pyplot as plt"
   ]
  },
  {
   "cell_type": "code",
   "execution_count": 22,
   "id": "7a2cac65-b802-4a21-9c98-b199f3c634d9",
   "metadata": {},
   "outputs": [],
   "source": [
    "with open('../data/polygons.jsonl', 'r') as json_file:\n",
    "    json_list = list(json_file)"
   ]
  },
  {
   "cell_type": "code",
   "execution_count": 23,
   "id": "15e0b57d-b47a-400f-8821-df0876e5db17",
   "metadata": {},
   "outputs": [],
   "source": [
    "tiles_dicts = []\n",
    "for json_str in json_list:\n",
    "    tiles_dicts.append(json.loads(json_str))"
   ]
  },
  {
   "cell_type": "code",
   "execution_count": 24,
   "id": "d092298e",
   "metadata": {},
   "outputs": [],
   "source": [
    "def make_seg_mask_class1(tiles_dict):\n",
    "    mask = np.zeros((512, 512), dtype=np.float32)\n",
    "    for annot in tiles_dict['annotations']:\n",
    "        cords = annot['coordinates']\n",
    "        if annot['type'] == \"blood_vessel\":\n",
    "            for cd in cords:\n",
    "                rr, cc = np.array([i[1] for i in cd]), np.asarray([i[0] for i in cd])\n",
    "                mask[rr, cc] = 1\n",
    "                \n",
    "    contours,_ = cv2.findContours((mask*255).astype(np.uint8), 1, 2)\n",
    "    zero_img = np.zeros([mask.shape[0], mask.shape[1]], dtype=\"uint8\")\n",
    "\n",
    "    for p in contours:\n",
    "        cv2.fillPoly(zero_img, [p], (255, 255))\n",
    "    # zero_img = cv2.blur(zero_img, (6, 6))\n",
    "    return zero_img    "
   ]
  },
  {
   "cell_type": "code",
   "execution_count": 25,
   "id": "7e157645-13b9-4d53-907a-cb698b964c4d",
   "metadata": {},
   "outputs": [],
   "source": [
    "blood_vessel_class = []\n",
    "glomerulus_class = []\n",
    "unsure_class = []"
   ]
  },
  {
   "cell_type": "code",
   "execution_count": 26,
   "id": "1e912839-a5f8-4750-bc11-dcf94a8be3d1",
   "metadata": {},
   "outputs": [],
   "source": [
    "def make_seg_mask_class3(tiles_dict):\n",
    "    # green channel encodes instances [:,:,1] \n",
    "    # red channel encodes semantic category [:,:,0] \n",
    "    mask = np.zeros((512, 512,3), dtype=np.uint8)\n",
    "    c1 = False\n",
    "    c2 = False\n",
    "    c3 = False\n",
    "    for annot in tiles_dict['annotations']:\n",
    "        cords = annot['coordinates']\n",
    "        if annot['type'] == \"blood_vessel\":\n",
    "            for cd in cords:\n",
    "                rr, cc = np.array([i[1] for i in cd]), np.asarray([i[0] for i in cd])\n",
    "                mask[:,:,0][rr, cc] = 1\n",
    "                mask[:,:,1][rr, cc] = 1\n",
    "            c1 = True\n",
    "        elif annot['type'] == \"glomerulus\":\n",
    "            for cd in cords:\n",
    "                rr, cc = np.array([i[1] for i in cd]), np.asarray([i[0] for i in cd])\n",
    "                mask[:,:,0][rr, cc] = 1\n",
    "                mask[:,:,1][rr, cc] = 2\n",
    "            c2 = True\n",
    "        elif annot['type'] == \"unsure\":\n",
    "            for cd in cords:\n",
    "                rr, cc = np.array([i[1] for i in cd]), np.asarray([i[0] for i in cd])\n",
    "                mask[:,:,0][rr, cc] = 1\n",
    "                mask[:,:,1][rr, cc] = 3\n",
    "            c3 = True\n",
    "    if c1:\n",
    "        blood_vessel_class.append(1)\n",
    "    else:\n",
    "        blood_vessel_class.append(0)\n",
    "    if c2:\n",
    "        glomerulus_class.append(1)\n",
    "    else:\n",
    "        glomerulus_class.append(0)\n",
    "    if c3:\n",
    "        unsure_class.append(1)\n",
    "    else:\n",
    "        unsure_class.append(0)\n",
    "                \n",
    "    return mask    "
   ]
  },
  {
   "cell_type": "code",
   "execution_count": 27,
   "id": "e5ad59c8",
   "metadata": {},
   "outputs": [],
   "source": [
    "all_ids = []"
   ]
  },
  {
   "cell_type": "code",
   "execution_count": 28,
   "id": "70fba828-b168-467d-bded-16e282f34602",
   "metadata": {},
   "outputs": [
    {
     "name": "stderr",
     "output_type": "stream",
     "text": [
      "100%|█████████████████████████████████████████████████████████████████████████████████████████████████████████████████████████████████████████████████████████████████████████████| 1633/1633 [00:20<00:00, 78.00it/s]\n"
     ]
    }
   ],
   "source": [
    "os.makedirs('../data/train_images_class3', exist_ok=True)\n",
    "os.makedirs('../data/train_masks_class3', exist_ok=True)\n",
    "\n",
    "for i, tldc in enumerate(tqdm(tiles_dicts)):\n",
    "    array = tiff.imread(f'../data/train/{tldc[\"id\"]}.tif')\n",
    "    img_example = Image.fromarray(array)\n",
    "    img = np.array(img_example)\n",
    "    mask = make_seg_mask_class3(tldc)\n",
    "    # plt.imshow(mask)\n",
    "    # break\n",
    "    \n",
    "    if np.sum(mask)>0:\n",
    "        cv2.imwrite(f'../data/train_images_class3/{tldc[\"id\"]}.png', img)\n",
    "        np.save(f'../data/train_masks_class3/{tldc[\"id\"]}.npy', mask)\n",
    "        # cv2.imwrite(f'../data/mask_images_class3/{tldc[\"id\"]}.png', mask)\n",
    "        all_ids.append({tldc[\"id\"]}.pop())\n",
    "    "
   ]
  },
  {
   "cell_type": "code",
   "execution_count": 29,
   "id": "9f55faf4-d93c-42da-a158-f1a300f46797",
   "metadata": {},
   "outputs": [],
   "source": [
    "import pandas as pd"
   ]
  },
  {
   "cell_type": "code",
   "execution_count": 30,
   "id": "3499786c",
   "metadata": {},
   "outputs": [],
   "source": [
    "df = pd.DataFrame()"
   ]
  },
  {
   "cell_type": "code",
   "execution_count": 31,
   "id": "77be154a-af65-40e0-93f7-739bf90b3244",
   "metadata": {},
   "outputs": [
    {
     "name": "stdout",
     "output_type": "stream",
     "text": [
      "1633\n",
      "1633\n",
      "1633\n"
     ]
    }
   ],
   "source": [
    "print(len(all_ids))\n",
    "print(len(blood_vessel_class))\n",
    "print(len(glomerulus_class))"
   ]
  },
  {
   "cell_type": "code",
   "execution_count": 32,
   "id": "f7ad9e6d",
   "metadata": {},
   "outputs": [],
   "source": [
    "df[\"id\"] = all_ids\n",
    "df[\"blood_vessel\"] = blood_vessel_class\n",
    "df[\"glomerulus\"] = glomerulus_class\n",
    "df[\"unsure_class\"] = unsure_class"
   ]
  },
  {
   "cell_type": "code",
   "execution_count": 33,
   "id": "684d04ee-e24f-4e9f-b40c-970d6bcd24e8",
   "metadata": {},
   "outputs": [],
   "source": [
    "df.to_csv(\"../data/train_class3.csv\",index = False)"
   ]
  },
  {
   "cell_type": "code",
   "execution_count": 34,
   "id": "ae325735-6116-406e-997d-a6c976ad7709",
   "metadata": {},
   "outputs": [],
   "source": [
    "import cv2"
   ]
  },
  {
   "cell_type": "code",
   "execution_count": 35,
   "id": "6d1f5dbf-efc4-4480-8259-78c2e4258136",
   "metadata": {},
   "outputs": [],
   "source": [
    "mask_a = np.load(\"../data/train_masks_class3/016c33dacfa1.npy\")"
   ]
  },
  {
   "cell_type": "code",
   "execution_count": 42,
   "id": "02fbcba7-9085-4bc4-9497-b8f10c53f8c7",
   "metadata": {},
   "outputs": [
    {
     "data": {
      "image/png": "[encoded data removed]",
      "text/plain": [
       "<PIL.Image.Image image mode=L size=512x512>"
      ]
     },
     "execution_count": 42,
     "metadata": {},
     "output_type": "execute_result"
    }
   ],
   "source": [
    "import matplotlib.pyplot as plt\n",
    "# let's visualize the first instance (ignoring background)\n",
    "\n",
    "instance_seg = mask_a[:,:,1] # green channel encodes instances\n",
    "class_id_map = mask_a[:,:,0] # red channel encodes semantic category\n",
    "class_labels = np.unique(class_id_map)\n",
    "# let's visualize the first instance (ignoring background)\n",
    "mask = (instance_seg == 0)\n",
    "visual_mask = (mask * 255).astype(np.uint8)\n",
    "Image.fromarray(visual_mask)"
   ]
  },
  {
   "cell_type": "code",
   "execution_count": 37,
   "id": "2099b5c5-a3fd-4679-b5dc-d84b858cae23",
   "metadata": {},
   "outputs": [
    {
     "data": {
      "text/plain": [
       "array([0, 1, 2], dtype=uint8)"
      ]
     },
     "execution_count": 37,
     "metadata": {},
     "output_type": "execute_result"
    }
   ],
   "source": [
    "np.unique(instance_seg)"
   ]
  },
  {
   "cell_type": "code",
   "execution_count": 43,
   "id": "8b8cda17-1480-4fb9-b69a-fa2d7342ba3f",
   "metadata": {},
   "outputs": [
    {
     "name": "stdout",
     "output_type": "stream",
     "text": [
      "{0: 0, 1: 1, 2: 1}\n"
     ]
    }
   ],
   "source": [
    "# create mapping between instance IDs and semantic category IDs\n",
    "inst2class = {}\n",
    "for label in class_labels:\n",
    "    instance_ids = np.unique(instance_seg[class_id_map == label])\n",
    "    inst2class.update({i: label for i in instance_ids})\n",
    "print(inst2class)"
   ]
  },
  {
   "cell_type": "code",
   "execution_count": null,
   "id": "920a1a58-d3b6-4303-8dbb-738972027be0",
   "metadata": {},
   "outputs": [],
   "source": []
  }
 ],
 "metadata": {
  "kernelspec": {
   "display_name": "Python 3 (ipykernel)",
   "language": "python",
   "name": "python3"
  },
  "language_info": {
   "codemirror_mode": {
    "name": "ipython",
    "version": 3
   },
   "file_extension": ".py",
   "mimetype": "text/x-python",
   "name": "python",
   "nbconvert_exporter": "python",
   "pygments_lexer": "ipython3",
   "version": "3.10.11"
  }
 },
 "nbformat": 4,
 "nbformat_minor": 5
}
