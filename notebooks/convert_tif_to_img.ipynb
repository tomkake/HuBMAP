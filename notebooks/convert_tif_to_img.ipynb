{
 "cells": [
  {
   "cell_type": "code",
   "execution_count": 2,
   "id": "bbf6799b-b1ef-446b-b6a1-45bce8a0bd3b",
   "metadata": {},
   "outputs": [],
   "source": [
    "import os\n",
    "import cv2\n",
    "import json\n",
    "import numpy as np\n",
    "import pandas as pd\n",
    "import tifffile as tiff\n",
    "from tqdm import tqdm\n",
    "from PIL import Image\n",
    "import matplotlib.pyplot as plt"
   ]
  },
  {
   "cell_type": "code",
   "execution_count": 3,
   "id": "7a2cac65-b802-4a21-9c98-b199f3c634d9",
   "metadata": {},
   "outputs": [],
   "source": [
    "with open('../data/polygons.jsonl', 'r') as json_file:\n",
    "    json_list = list(json_file)"
   ]
  },
  {
   "cell_type": "code",
   "execution_count": 4,
   "id": "15e0b57d-b47a-400f-8821-df0876e5db17",
   "metadata": {},
   "outputs": [],
   "source": [
    "tiles_dicts = []\n",
    "for json_str in json_list:\n",
    "    tiles_dicts.append(json.loads(json_str))"
   ]
  },
  {
   "cell_type": "code",
   "execution_count": 5,
   "id": "d092298e",
   "metadata": {},
   "outputs": [],
   "source": [
    "def make_seg_mask_class1(tiles_dict):\n",
    "    mask = np.zeros((512, 512), dtype=np.float32)\n",
    "    for annot in tiles_dict['annotations']:\n",
    "        cords = annot['coordinates']\n",
    "        if annot['type'] == \"blood_vessel\":\n",
    "            for cd in cords:\n",
    "                rr, cc = np.array([i[1] for i in cd]), np.asarray([i[0] for i in cd])\n",
    "                mask[rr, cc] = 1\n",
    "                \n",
    "    contours,_ = cv2.findContours((mask*255).astype(np.uint8), 1, 2)\n",
    "    zero_img = np.zeros([mask.shape[0], mask.shape[1]], dtype=\"uint8\")\n",
    "\n",
    "    for p in contours:\n",
    "        cv2.fillPoly(zero_img, [p], (255, 255))\n",
    "    # zero_img = cv2.blur(zero_img, (6, 6))\n",
    "    return zero_img    "
   ]
  },
  {
   "cell_type": "code",
   "execution_count": 6,
   "id": "7e157645-13b9-4d53-907a-cb698b964c4d",
   "metadata": {},
   "outputs": [],
   "source": [
    "blood_vessel_class = []\n",
    "glomerulus_class = []\n",
    "unsure_class = []"
   ]
  },
  {
   "cell_type": "code",
   "execution_count": 7,
   "id": "1e912839-a5f8-4750-bc11-dcf94a8be3d1",
   "metadata": {},
   "outputs": [],
   "source": [
    "def make_seg_mask_class3(tiles_dict):\n",
    "    # green channel encodes instances [:,:,1] \n",
    "    # red channel encodes semantic category [:,:,0] \n",
    "    mask = np.zeros((512, 512,3), dtype=np.uint8)\n",
    "    instances = np.zeros((512, 512), dtype=np.uint8)\n",
    "    c1 = False\n",
    "    c2 = False\n",
    "    c3 = False\n",
    "    for annot in tiles_dict['annotations']:\n",
    "        cords = annot['coordinates']\n",
    "        if annot['type'] == \"blood_vessel\":\n",
    "            for cd in cords:\n",
    "                points = []\n",
    "                for i in cd:\n",
    "                    points.append([i[0],i[1]])\n",
    "                rr, cc = np.array([i[1] for i in cd]), np.asarray([i[0] for i in cd])\n",
    "                # mask[:,:,1][rr, cc] = 1\n",
    "                mask[:,:,0][rr, cc] = 1\n",
    "            target = instances\n",
    "            points = np.array(points).astype(int).reshape((-1, 1, 2))\n",
    "            cv2.fillPoly(target, [points], color=1)\n",
    "            c1 = True\n",
    "        elif annot['type'] == \"glomerulus\":\n",
    "            for cd in cords:\n",
    "                points = []\n",
    "                for i in cd:\n",
    "                    points.append([i[0],i[1]])\n",
    "                rr, cc = np.array([i[1] for i in cd]), np.asarray([i[0] for i in cd])\n",
    "                # mask[:,:,1][rr, cc] = 1\n",
    "                mask[:,:,0][rr, cc] = 2\n",
    "            target = instances\n",
    "            points = np.array(points).astype(int).reshape((-1, 1, 2))\n",
    "            cv2.fillPoly(target, [points], color=2)\n",
    "            c2 = True\n",
    "        elif annot['type'] == \"unsure\":\n",
    "            for cd in cords:\n",
    "                points = []\n",
    "                for i in cd:\n",
    "                    points.append([i[0],i[1]])\n",
    "                rr, cc = np.array([i[1] for i in cd]), np.asarray([i[0] for i in cd])\n",
    "                # mask[:,:,1][rr, cc] = 1\n",
    "                mask[:,:,0][rr, cc] = 3\n",
    "            target = instances\n",
    "            points = np.array(points).astype(int).reshape((-1, 1, 2))\n",
    "            cv2.fillPoly(target, [points], color=2)\n",
    "            c3 = True\n",
    "    mask[:,:,1] = instances\n",
    "    if c1:\n",
    "        blood_vessel_class.append(1)\n",
    "    else:\n",
    "        blood_vessel_class.append(0)\n",
    "    if c2:\n",
    "        glomerulus_class.append(1)\n",
    "    else:\n",
    "        glomerulus_class.append(0)\n",
    "    if c3:\n",
    "        unsure_class.append(1)\n",
    "    else:\n",
    "        unsure_class.append(0)\n",
    "                \n",
    "    return mask    "
   ]
  },
  {
   "cell_type": "code",
   "execution_count": 8,
   "id": "e5ad59c8",
   "metadata": {},
   "outputs": [],
   "source": [
    "all_ids = []"
   ]
  },
  {
   "cell_type": "code",
   "execution_count": 9,
   "id": "70fba828-b168-467d-bded-16e282f34602",
   "metadata": {},
   "outputs": [],
   "source": [
    "os.makedirs('../data/train_images_class3', exist_ok=True)\n",
    "os.makedirs('../data/train_masks_class3', exist_ok=True)\n",
    "\n",
    "# for i, tldc in enumerate(tqdm(tiles_dicts)):\n",
    "#     array = tiff.imread(f'../data/train/{tldc[\"id\"]}.tif')\n",
    "#     img_example = Image.fromarray(array)\n",
    "#     img = np.array(img_example)\n",
    "#     mask = make_seg_mask_class3(tldc)\n",
    "    # plt.imshow(mask)\n",
    "    # break\n",
    "    \n",
    "#     if np.sum(mask)>0:\n",
    "#         cv2.imwrite(f'../data/train_images_class3/{tldc[\"id\"]}.png', img)\n",
    " #        np.save(f'../data/train_masks_class3/{tldc[\"id\"]}.npy', mask)\n",
    "        # cv2.imwrite(f'../data/mask_images_class3/{tldc[\"id\"]}.png', mask)\n",
    "#         all_ids.append({tldc[\"id\"]}.pop())\n",
    "    "
   ]
  },
  {
   "cell_type": "code",
   "execution_count": 10,
   "id": "9f55faf4-d93c-42da-a158-f1a300f46797",
   "metadata": {},
   "outputs": [],
   "source": [
    "import pandas as pd"
   ]
  },
  {
   "cell_type": "code",
   "execution_count": 11,
   "id": "3499786c",
   "metadata": {},
   "outputs": [],
   "source": [
    "df = pd.DataFrame()"
   ]
  },
  {
   "cell_type": "code",
   "execution_count": 12,
   "id": "77be154a-af65-40e0-93f7-739bf90b3244",
   "metadata": {},
   "outputs": [
    {
     "name": "stdout",
     "output_type": "stream",
     "text": [
      "0\n",
      "0\n",
      "0\n"
     ]
    }
   ],
   "source": [
    "print(len(all_ids))\n",
    "print(len(blood_vessel_class))\n",
    "print(len(glomerulus_class))"
   ]
  },
  {
   "cell_type": "code",
   "execution_count": 13,
   "id": "f7ad9e6d",
   "metadata": {},
   "outputs": [],
   "source": [
    "df[\"id\"] = all_ids\n",
    "df[\"blood_vessel\"] = blood_vessel_class\n",
    "df[\"glomerulus\"] = glomerulus_class\n",
    "df[\"unsure_class\"] = unsure_class"
   ]
  },
  {
   "cell_type": "code",
   "execution_count": 14,
   "id": "684d04ee-e24f-4e9f-b40c-970d6bcd24e8",
   "metadata": {},
   "outputs": [],
   "source": [
    "# df.to_csv(\"../data/train_class3.csv\",index = False)"
   ]
  },
  {
   "cell_type": "code",
   "execution_count": 15,
   "id": "ae325735-6116-406e-997d-a6c976ad7709",
   "metadata": {},
   "outputs": [],
   "source": [
    "import cv2"
   ]
  },
  {
   "cell_type": "code",
   "execution_count": 16,
   "id": "6d1f5dbf-efc4-4480-8259-78c2e4258136",
   "metadata": {},
   "outputs": [],
   "source": [
    "mask_a = np.load(\"../data/train_masks_class3/016c33dacfa1.npy\")"
   ]
  },
  {
   "cell_type": "code",
   "execution_count": 17,
   "id": "02fbcba7-9085-4bc4-9497-b8f10c53f8c7",
   "metadata": {},
   "outputs": [
    {
     "name": "stdout",
     "output_type": "stream",
     "text": [
      "255 0\n"
     ]
    },
    {
     "data": {
      "image/png": "[encoded data removed]",
      "text/plain": [
       "<PIL.Image.Image image mode=L size=512x512>"
      ]
     },
     "execution_count": 17,
     "metadata": {},
     "output_type": "execute_result"
    }
   ],
   "source": [
    "import matplotlib.pyplot as plt\n",
    "# let's visualize the first instance (ignoring background)\n",
    "\n",
    "instance_seg = mask_a[:,:,1] # green channel encodes instances\n",
    "class_id_map = mask_a[:,:,0] # red channel encodes semantic category\n",
    "class_labels = np.unique(class_id_map)\n",
    "# let's visualize the first instance (ignoring background)\n",
    "mask = (instance_seg == 0)\n",
    "visual_mask = (mask * 255).astype(np.uint8)\n",
    "print(np.max(visual_mask),np.min(visual_mask))\n",
    "Image.fromarray(visual_mask)"
   ]
  },
  {
   "cell_type": "code",
   "execution_count": 18,
   "id": "2099b5c5-a3fd-4679-b5dc-d84b858cae23",
   "metadata": {},
   "outputs": [
    {
     "data": {
      "text/plain": [
       "array([0, 1, 2], dtype=uint8)"
      ]
     },
     "execution_count": 18,
     "metadata": {},
     "output_type": "execute_result"
    }
   ],
   "source": [
    "np.unique(instance_seg)"
   ]
  },
  {
   "cell_type": "code",
   "execution_count": 19,
   "id": "8b8cda17-1480-4fb9-b69a-fa2d7342ba3f",
   "metadata": {},
   "outputs": [
    {
     "name": "stdout",
     "output_type": "stream",
     "text": [
      "{0: 0, 1: 1, 2: 2}\n"
     ]
    }
   ],
   "source": [
    "# create mapping between instance IDs and semantic category IDs\n",
    "inst2class = {}\n",
    "for label in class_labels:\n",
    "    instance_ids = np.unique(instance_seg[class_id_map == label])\n",
    "    inst2class.update({i: label for i in instance_ids})\n",
    "print(inst2class)"
   ]
  },
  {
   "cell_type": "code",
   "execution_count": 32,
   "id": "07410a86-a2ab-4ce9-9d7d-ff172bce2ccc",
   "metadata": {},
   "outputs": [],
   "source": [
    "class_df = pd.DataFrame()\n",
    "class_df[\"idx\"] = [1,2,3]\n",
    "class_df[\"Object Names\"] = [\"blood_vessel\",\"glomerulus\",\"unsure\"]\n",
    "# class_df.to_csv(\"../data/3class_names.csv\",index = False)"
   ]
  },
  {
   "cell_type": "code",
   "execution_count": 21,
   "id": "661ea130-4559-4d21-8372-b60626eaf46b",
   "metadata": {},
   "outputs": [
    {
     "name": "stderr",
     "output_type": "stream",
     "text": [
      "/home/tamukake/Github/HuBMAP/.venv/lib/python3.10/site-packages/tqdm/auto.py:21: TqdmWarning: IProgress not found. Please update jupyter and ipywidgets. See https://ipywidgets.readthedocs.io/en/stable/user_install.html\n",
      "  from .autonotebook import tqdm as notebook_tqdm\n",
      "/home/tamukake/Github/HuBMAP/.venv/lib/python3.10/site-packages/transformers/models/maskformer/image_processing_maskformer.py:419: FutureWarning: The `reduce_labels` argument is deprecated and will be removed in v4.27. Please use `do_reduce_labels` instead.\n",
      "  warnings.warn(\n"
     ]
    }
   ],
   "source": [
    "\n",
    "from transformers import MaskFormerImageProcessor\n",
    "\n",
    "processor = MaskFormerImageProcessor(reduce_labels=True, ignore_index=255, do_resize=False, do_rescale=False, do_normalize=False)"
   ]
  },
  {
   "cell_type": "code",
   "execution_count": 22,
   "id": "561e2b8a-ea16-4423-830a-45a239059921",
   "metadata": {},
   "outputs": [],
   "source": [
    "\n",
    "import albumentations as A\n",
    "\n",
    "ADE_MEAN = np.array([123.675, 116.280, 103.530]) / 255\n",
    "ADE_STD = np.array([58.395, 57.120, 57.375]) / 255\n",
    "\n",
    "transform = A.Compose([\n",
    "    A.Resize(width=512, height=512),\n",
    "    A.Normalize(mean=ADE_MEAN, std=ADE_STD),\n",
    "])"
   ]
  },
  {
   "cell_type": "code",
   "execution_count": 23,
   "id": "06f0422b-969b-4fab-8d50-d028aa703ccc",
   "metadata": {},
   "outputs": [
    {
     "name": "stdout",
     "output_type": "stream",
     "text": [
      "(3, 512, 512)\n",
      "(512, 512)\n"
     ]
    }
   ],
   "source": [
    "image = cv2.imread(\"../data/train_images_class3/016c33dacfa1.png\")\n",
    "transformed = transform(image=np.array(image), mask=instance_seg)\n",
    "pixel_values = np.moveaxis(transformed[\"image\"], -1, 0)\n",
    "instance_seg_transformed = transformed[\"mask\"]\n",
    "print(pixel_values.shape)\n",
    "print(instance_seg_transformed.shape)"
   ]
  },
  {
   "cell_type": "code",
   "execution_count": 24,
   "id": "fa9dcf1b-81e7-4087-9669-eecea4e48065",
   "metadata": {},
   "outputs": [
    {
     "data": {
      "text/plain": [
       "array([0, 1, 2], dtype=uint8)"
      ]
     },
     "execution_count": 24,
     "metadata": {},
     "output_type": "execute_result"
    }
   ],
   "source": [
    "\n",
    "np.unique(instance_seg_transformed)"
   ]
  },
  {
   "cell_type": "code",
   "execution_count": 25,
   "id": "e6359d40-aa67-406f-8330-5039b21e770c",
   "metadata": {},
   "outputs": [],
   "source": [
    "inputs = processor([pixel_values], [instance_seg_transformed], instance_id_to_semantic_id=inst2class, return_tensors=\"pt\")"
   ]
  },
  {
   "cell_type": "code",
   "execution_count": 26,
   "id": "a4488f1d-d572-49ec-99dc-c23541e37688",
   "metadata": {},
   "outputs": [
    {
     "name": "stdout",
     "output_type": "stream",
     "text": [
      "pixel_values torch.Size([1, 3, 512, 512])\n",
      "pixel_mask torch.Size([1, 512, 512])\n",
      "mask_labels [torch.Size([2, 512, 512])]\n",
      "class_labels [torch.Size([2])]\n"
     ]
    }
   ],
   "source": [
    "\n",
    "import torch\n",
    "\n",
    "for k,v in inputs.items():\n",
    "  if isinstance(v, torch.Tensor):\n",
    "    print(k,v.shape)\n",
    "  else:\n",
    "    print(k,[x.shape for x in v])\n",
    "     "
   ]
  },
  {
   "cell_type": "code",
   "execution_count": 27,
   "id": "90f685de-12b1-4742-a7e3-a2a85a6cc653",
   "metadata": {},
   "outputs": [],
   "source": [
    "assert not torch.allclose(inputs[\"mask_labels\"][0][0], inputs[\"mask_labels\"][0][1])"
   ]
  },
  {
   "cell_type": "code",
   "execution_count": 28,
   "id": "727263e9-5fb5-4afd-bb9f-e810e23a52d9",
   "metadata": {},
   "outputs": [
    {
     "data": {
      "text/plain": [
       "[tensor([0, 1])]"
      ]
     },
     "execution_count": 28,
     "metadata": {},
     "output_type": "execute_result"
    }
   ],
   "source": [
    "\n",
    "inputs[\"class_labels\"]"
   ]
  },
  {
   "cell_type": "code",
   "execution_count": 29,
   "id": "3d709860-e989-425f-bfa0-d5b6a691d55f",
   "metadata": {},
   "outputs": [],
   "source": [
    "data = pd.read_csv(\"../data/3class_names.csv\")\n",
    "id2label = {id: label.strip() for id, label in enumerate(data[\"Object Names\"])}"
   ]
  },
  {
   "cell_type": "code",
   "execution_count": 30,
   "id": "36d9fbe8-78cc-48ec-ae0a-c830d471556d",
   "metadata": {},
   "outputs": [
    {
     "name": "stdout",
     "output_type": "stream",
     "text": [
      "Label: blood_vessel\n"
     ]
    },
    {
     "data": {
      "image/png": "[encoded data removed]",
      "text/plain": [
       "<PIL.Image.Image image mode=L size=512x512>"
      ]
     },
     "execution_count": 30,
     "metadata": {},
     "output_type": "execute_result"
    }
   ],
   "source": [
    "\n",
    "from PIL import Image\n",
    "\n",
    "# visualize first one\n",
    "print(\"Label:\", id2label[inputs[\"class_labels\"][0][0].item()])\n",
    "\n",
    "visual_mask = (inputs[\"mask_labels\"][0][0].numpy() * 255).astype(np.uint8)\n",
    "Image.fromarray(visual_mask)"
   ]
  },
  {
   "cell_type": "code",
   "execution_count": null,
   "id": "6b88d0b7-b4e3-4a89-b59b-cff04092ab5d",
   "metadata": {},
   "outputs": [],
   "source": []
  }
 ],
 "metadata": {
  "kernelspec": {
   "display_name": "Python 3 (ipykernel)",
   "language": "python",
   "name": "python3"
  },
  "language_info": {
   "codemirror_mode": {
    "name": "ipython",
    "version": 3
   },
   "file_extension": ".py",
   "mimetype": "text/x-python",
   "name": "python",
   "nbconvert_exporter": "python",
   "pygments_lexer": "ipython3",
   "version": "3.10.11"
  }
 },
 "nbformat": 4,
 "nbformat_minor": 5
}
